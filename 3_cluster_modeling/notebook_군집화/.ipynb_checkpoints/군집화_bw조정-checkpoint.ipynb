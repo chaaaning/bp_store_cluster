{
 "cells": [
  {
   "cell_type": "markdown",
   "id": "82cf582f-623b-4da0-a3b5-eb21c73a1297",
   "metadata": {},
   "source": [
    "# 0. Data Load"
   ]
  },
  {
   "cell_type": "code",
   "execution_count": 1,
   "id": "388a36a6-8be3-445b-b51b-e195219d3294",
   "metadata": {
    "scrolled": true,
    "tags": []
   },
   "outputs": [],
   "source": [
    "import pandas as pd\n",
    "import numpy as np\n",
    "import os\n",
    "import warnings\n",
    "from matplotlib import pyplot as plt\n",
    "\n",
    "warnings.simplefilter('ignore')\n",
    "\n",
    "def row_num(x): return pd.set_option('display.max_rows',x)\n",
    "def col_num(x): return pd.set_option('display.max_columns',x)\n",
    "\n",
    "row_num(10)\n",
    "col_num(10)\n",
    "\n",
    "%matplotlib inline\n",
    "plt.style.use('ggplot')\n",
    "plt.rcParams['font.family'] = 'Malgun Gothic'\n",
    "plt.rcParams['font.size'] = 15\n",
    "plt.rcParams['figure.figsize'] = (12,10)\n",
    "plt.rcParams['axes.unicode_minus'] = False\n",
    "\n",
    "os.chdir('./정제데이터/BW에 따른 회귀계수')"
   ]
  },
  {
   "cell_type": "code",
   "execution_count": 8,
   "id": "03592bb0-c241-4182-8e52-bd0c9a27535e",
   "metadata": {},
   "outputs": [
    {
     "data": {
      "text/plain": [
       "'95'"
      ]
     },
     "execution_count": 8,
     "metadata": {},
     "output_type": "execute_result"
    }
   ],
   "source": [
    "os.listdir()[-1][18:22].strip(',').replace('_','')"
   ]
  },
  {
   "cell_type": "code",
   "execution_count": 11,
   "id": "b6619fcc-45af-4570-b1a4-0517ab117ed2",
   "metadata": {},
   "outputs": [],
   "source": [
    "from sklearn.cluster import AgglomerativeClustering as AGG\n",
    "\n",
    "# df_ready = pd.read_csv('ready_dataset.csv', encoding='euc-kr')\n",
    "o_store_cluster = pd.DataFrame(df_ogwr['BAS_ID'])\n",
    "for file in os.listdir():\n",
    "    df_ogwr = pd.read_csv(file, encoding='euc-kr')\n",
    "    \n",
    "    try:\n",
    "        open_agcluster = AGG(n_clusters=11, linkage='average', affinity='cosine').fit(df_ogwr.drop(['BAS_ID','x','y'],axis=1))\n",
    "        o_cluster = open_agcluster.labels_\n",
    "    #     col_name = 'open_'+str(i)+'cluster'\n",
    "        col_name = 'ocluster_'+file[16:22].strip(',').replace('_','')\n",
    "        o_store_cluster[col_name] = o_cluster\n",
    "\n",
    "    #     o_store_cluster.to_csv(file[16:22].strip(',').replace('_','')+'_ocluster.csv',index=False)\n",
    "    except:\n",
    "        continue"
   ]
  },
  {
   "cell_type": "code",
   "execution_count": 13,
   "id": "e88dd2fb-ae6d-4d09-8777-8dfaf45da439",
   "metadata": {},
   "outputs": [],
   "source": [
    "o_store_cluster.to_csv('total_bw_ocluster.csv',index=False)"
   ]
  },
  {
   "cell_type": "markdown",
   "id": "8857e832-ae17-4011-9e0f-0fed483f428a",
   "metadata": {},
   "source": [
    "# 1. 군집화 모델 구성\n",
    "\n",
    "- metric : Cosine\n",
    "- affinity : Average\n",
    "- n_cluster = 11\n"
   ]
  },
  {
   "cell_type": "markdown",
   "id": "360f5db5-7884-43b2-88ad-2cc24d7cc53f",
   "metadata": {},
   "source": [
    "## 1.1. 스케일링하지 않은 군집"
   ]
  },
  {
   "cell_type": "code",
   "execution_count": 4,
   "id": "156e769c-949c-469c-9578-4f1fe6ad9785",
   "metadata": {},
   "outputs": [],
   "source": [
    "# 계층 군집화 수행\n",
    "from sklearn.cluster import AgglomerativeClustering as AGG\n",
    "\n",
    "o_store_cluster = pd.DataFrame(df_ogwr['BAS_ID'])\n",
    "c_store_cluster = pd.DataFrame(df_cgwr['BAS_ID'])\n",
    "    \n",
    "for i in range(7,17,2):\n",
    "    open_agcluster = AGG(n_clusters=i, linkage='average', affinity='cosine').fit(df_ogwr.drop(['BAS_ID','x','y'],axis=1))\n",
    "    o_cluster = open_agcluster.labels_\n",
    "    col_name = 'open_'+str(i)+'cluster'\n",
    "    o_store_cluster[col_name] = o_cluster\n",
    "    \n",
    "for i in range(7,17,2):\n",
    "    close_agcluster = AGG(n_clusters=i, linkage='average', affinity='cosine').fit(df_cgwr.drop(['BAS_ID','x','y'],axis=1))\n",
    "    c_cluster = close_agcluster.labels_\n",
    "    col_name = 'close_'+str(i)+'cluster'\n",
    "    c_store_cluster[col_name] = c_cluster"
   ]
  },
  {
   "cell_type": "code",
   "execution_count": 5,
   "id": "5c201766-0463-4645-9606-5747bb2456b3",
   "metadata": {},
   "outputs": [
    {
     "name": "stdout",
     "output_type": "stream",
     "text": [
      "<class 'pandas.core.frame.DataFrame'>\n",
      "Int64Index: 158 entries, 0 to 157\n",
      "Data columns (total 11 columns):\n",
      " #   Column           Non-Null Count  Dtype  \n",
      "---  ------           --------------  -----  \n",
      " 0   BAS_ID           158 non-null    int64  \n",
      " 1   open_7cluster    158 non-null    int64  \n",
      " 2   open_9cluster    158 non-null    int64  \n",
      " 3   open_11cluster   158 non-null    int64  \n",
      " 4   open_13cluster   158 non-null    int64  \n",
      " 5   open_15cluster   158 non-null    int64  \n",
      " 6   close_7cluster   152 non-null    float64\n",
      " 7   close_9cluster   152 non-null    float64\n",
      " 8   close_11cluster  152 non-null    float64\n",
      " 9   close_13cluster  152 non-null    float64\n",
      " 10  close_15cluster  152 non-null    float64\n",
      "dtypes: float64(5), int64(6)\n",
      "memory usage: 14.8 KB\n"
     ]
    }
   ],
   "source": [
    "store_cluster = pd.merge(o_store_cluster, c_store_cluster, on='BAS_ID', how='left')\n",
    "store_cluster.info()"
   ]
  },
  {
   "cell_type": "code",
   "execution_count": 11,
   "id": "bbbf5351-f4b1-4e70-84ef-9b0413043555",
   "metadata": {},
   "outputs": [],
   "source": [
    "store_cluster.iloc[:,:6].to_csv('군집화결과\\\\11_2주차\\\\open_cluster_bw110.csv',index=False)"
   ]
  },
  {
   "cell_type": "code",
   "execution_count": 15,
   "id": "17604c9f-121d-4d53-b9ee-422883d7df99",
   "metadata": {},
   "outputs": [],
   "source": [
    "# store_cluster.to_csv('군집화결과\\\\11_1주차\\\\General_cluster.csv',index=False)\n",
    "# store_cluster.to_csv('군집화결과\\\\11_1주차\\\\gen_cluster_1102.csv',index=False)\n",
    "# store_cluster.to_csv('군집화결과\\\\11_1주차\\\\gen_cluster_recur.csv',index=False)\n",
    "# store_cluster.to_csv('군집화결과\\\\11_2주차\\\\gen_cluster_log.csv',index=False)\n",
    "# store_cluster.to_csv('군집화결과\\\\11_2주차\\\\gen_cluster_log(1109).csv',index=False)\n",
    "# store_cluster.to_csv('군집화결과\\\\11_2주차\\\\gen_cluster_log(1109,cos).csv',index=False)"
   ]
  }
 ],
 "metadata": {
  "kernelspec": {
   "display_name": "Python 3",
   "language": "python",
   "name": "python3"
  },
  "language_info": {
   "codemirror_mode": {
    "name": "ipython",
    "version": 3
   },
   "file_extension": ".py",
   "mimetype": "text/x-python",
   "name": "python",
   "nbconvert_exporter": "python",
   "pygments_lexer": "ipython3",
   "version": "3.8.8"
  },
  "toc-autonumbering": false,
  "toc-showcode": false,
  "toc-showmarkdowntxt": false
 },
 "nbformat": 4,
 "nbformat_minor": 5
}
